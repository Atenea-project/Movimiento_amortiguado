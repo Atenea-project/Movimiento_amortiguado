{
 "cells": [
  {
   "cell_type": "markdown",
   "metadata": {
    "id": "VRTUJQ0jKu3W"
   },
   "source": [
    "<!--NOTEBOOK_HEADER-->\n",
    "Este cuadernillo fue desarrollado por\n",
    "\n",
    "**A. Natahel C. C.**\n",
    "\n",
    "con el apoyo de la \n",
    "\n",
    "**Dra. Elizabeth Hernández Marín**\n",
    "\n",
    "Para la **Facultad de Química** de la **Universidad Nacional Autónoma de México**.\n",
    "\n",
    "El código de este cuadernillo está protegido bajo una [licencia GNU General Public License v3.0](https://opensource.org/licenses/GPL-3.0) y el texto está protegido una [licencia CC BY-SA 4.0](https://creativecommons.org/licenses/by-sa/4.0/).\n",
    "\n",
    "Puedes encontrar el repositorio en *GitHub* en: \n",
    "\n",
    "https://github.com/Atenea-project/Movimiento_amortiguado\n",
    "\n",
    "*Movimiento_Armónico_Amortiguado_solución_V0.1*"
   ]
  },
  {
   "cell_type": "markdown",
   "metadata": {
    "id": "JDxK940xKu3Y"
   },
   "source": [
    "# Práctica 2, Movimiento Armónico Amortiguado"
   ]
  },
  {
   "cell_type": "markdown",
   "metadata": {
    "id": "2C8qiDQCKu3a"
   },
   "source": [
    "## I) Teoría.\n",
    "\n",
    "El movimiento armónico amortiguado (MAA) es el que describe a los cuerpos que oscilan o vibran y que van perdiendo energía conforme avanza el tiempo, por lo que pasado el tiempo alcanzaran el reposo. \n",
    "\n",
    "En este cuadernillo veremos dos casos de MAA y veremos el factor de calidad $Q$.\n",
    "\n",
    "    1) Una masa acoplada a un resorte\n",
    "    2) Factor de calidad\n",
    "    3) Un circuito RLC\n",
    "\n",
    "### 1) Masa acoplada a un resorte\n",
    "\n",
    "En este caso la fuerza del sistema se ve amortiguada por fricción.\n",
    "\n",
    "\\begin{align*}\n",
    "    F_d=-b\\frac{dx}{dt}\\\\\n",
    "    F_t=F_{Rest}+F_{Amort}\n",
    "\\end{align*}\n",
    "\n",
    "\\begin{align*}\n",
    "    F_t=-kx-b\\frac{dx}{dt}\n",
    "    m\\frac{d^2x}{dt^2}+b\\frac{dx}{dt}+kx=0\\\\\n",
    "    \\frac{d^2x}{dt^2}+\\frac{b}{m}\\frac{dx}{dt}+\\frac{k}{m}x=0\n",
    "\\end{align*}\n",
    "\n",
    "\\begin{equation}\n",
    "    \\frac{d^2x}{dt^2}+\\gamma\\frac{dx}{dt}+\\omega_0^2x=0\n",
    "\\end{equation}\n",
    "\n",
    "La función solución para la ecuación anterior seria la siguiente.\n",
    "\n",
    "\\begin{equation}\n",
    "    x=C_1e^{\\alpha_1t}+C_2e^{\\alpha_2t}\n",
    "\\end{equation}\n",
    "\n",
    "Tal que $\\alpha_1, \\alpha_2$ son soluciones a una ecuación de segundo orden.\n",
    "\n",
    "\\begin{align*}\n",
    "    \\alpha=\\frac{-\\gamma\\pm\\sqrt{\\gamma^2-4\\omega_0^2}}{2}\n",
    "\\end{align*}\n",
    "\n",
    "Para la solución a la ecuación diferencial podemos proponer tres casos diferentes.\n",
    "\n",
    "#### Caso 1. $\\frac{\\gamma^2}{4}>\\omega_0^2$ (Movimiento sobreamortiguado)\n",
    "En este caso no hay oscilación y el sistema tarda mucho en regresar al equilibrio.\n",
    "\\begin{equation}\n",
    "\\alpha=\\sqrt{\\frac{\\gamma^2}{4}-\\omega^2_0}\n",
    "\\end{equation}\n",
    "\n",
    "\\begin{equation}\n",
    "    x=e^{-\\frac{\\gamma t}{2}}\\left[Ae^{t\\alpha}+Be^{-t\\alpha}\\right]\n",
    "\\end{equation}\n",
    "\n",
    "#### Caso 2. $\\frac{\\gamma^2}{4}=\\omega_0^2$ (Movimiento Críticamente amortiguado)\n",
    "\n",
    "En este caso no hay oscilación y el sistema tarda el tiempo mínimo en regresar al equilibrio.\n",
    "\n",
    "\\begin{equation}\n",
    "    x=Ae^{-\\frac{\\gamma t}{2}}+Bte^{-\\frac{\\gamma t}{2}}\n",
    "\\end{equation}\n",
    "\n",
    "#### Caso 3. $\\frac{\\gamma^2}{4}<\\omega_0^2$ (Movimiento Subamortiguado)\n",
    "\n",
    "En este caso hay oscilación y la amplitud de las oscilaciones decae exponencialmente. Hay que destacar que la frecuencia $\\omega$ es independiente del tiempo.\n",
    "\n",
    "\\begin{equation}\n",
    "    x=e^{-\\frac{\\gamma t}{2}}\\left[C_1e^{i\\omega t}+C_2e^{-i\\omega t}\\right]\n",
    "\\end{equation}\n",
    "\n",
    "Tal que podemos definir a $\\omega$ de la siguiente manera.\n",
    "\n",
    "\\begin{align*}\n",
    "    \\omega=\\sqrt{\\omega_0^2-\\frac{\\gamma^2}{4}}    \n",
    "\\end{align*}\n",
    "\n",
    "También podemos definir a x en función de funciones trigonométricas.\n",
    "\n",
    "\\begin{equation}\n",
    "    x=Ae^{-\\frac{\\gamma t}{2}}\\cos{(\\omega t +\\phi)}\n",
    "\\end{equation}"
   ]
  },
  {
   "cell_type": "markdown",
   "metadata": {
    "id": "Ghi01SHJKu3b"
   },
   "source": [
    "### 1.1) Código, masa acoplada a un resorte.\n",
    "Crearemos una función con la que podemos graficar la variación de la distancia del resorte conforme avanza el tiempo y que contemple la perdida de movimiento para los 3 casos de amortiguamiento con una condición 'if'. \n",
    "\n",
    "Iremos variando los parámetros de nuestra gráfica para ver como afectan las variaciones en la frecuencia natural de oscilación $\\omega_0$, la constante asociada al amortiguamiento $\\gamma$ , el desfase $\\phi$, las constantes $A$ y $B$.\n",
    "\n",
    "Por último compararemos los tres casos de amortiguamiento.\n",
    "\n",
    "Primero importamos las librerías adecuadas "
   ]
  },
  {
   "cell_type": "code",
   "execution_count": null,
   "metadata": {
    "id": "WNwO-ASgKu3c"
   },
   "outputs": [],
   "source": [
    "import numpy as np\n",
    "import matplotlib.pyplot as plt\n",
    "from ipywidgets import interact,interactive, fixed"
   ]
  },
  {
   "cell_type": "markdown",
   "metadata": {
    "id": "cuVGfx_CKu3d"
   },
   "source": [
    "Ahora crearemos una función 'MAA' que describa la posición de una masa acoplada a un resorte con respecto al tiempo y que contemple los tres casos de amortiguamiento. Las ecuaciones que describen este fenómeno son \n",
    "\n",
    "#### 1. Caso  $\\frac{\\gamma^2}{4}>\\omega_0^2$ (Movimiento sobreamortiguado)\n",
    "\n",
    "\\begin{equation}\n",
    "\\alpha=\\sqrt{\\frac{\\gamma^2}{4}-\\omega^2_0}\n",
    "\\end{equation}\n",
    "\n",
    "\\begin{equation}\n",
    "    x=e^{-\\frac{\\gamma t}{2}}\\left[Ae^{t\\alpha}+Be^{-t\\alpha}\\right]\n",
    "\\end{equation}\n",
    "\n",
    "#### 2. Caso  $\\frac{\\gamma^2}{4}=\\omega_0^2$ (Movimiento Críticamente amortiguado)\n",
    "\n",
    "\\begin{equation}\n",
    "    x=Ae^{-\\frac{\\gamma t}{2}}+Bte^{-\\frac{\\gamma t}{2}}\n",
    "\\end{equation}\n",
    "\n",
    "#### 3. Caso  $\\frac{\\gamma^2}{4}<\\omega_0^2$ (Movimiento Subamortiguado)\n",
    "\n",
    "\\begin{equation}\n",
    "    x=Ae^{-\\frac{\\gamma t}{2}}\\cos{(\\omega t +\\phi)}\n",
    "\\end{equation}\n",
    "\n",
    "Para esta función los parámetros que les pasaremos a la función son\n",
    "\n",
    "    - 'g': Constante de amortiguamiento.\n",
    "    - 'w0': Frecuencia natural de oscilación.\n",
    "    - 'phi': desfase de la función de onda.\n",
    "    - 'A', 'B': Constantes asociadas a la solución de la ecuación diferencial.\n",
    "\n",
    "también tenemos que generar un espacio lineal de los tiempos 't' para evaluar a las funciones.\n",
    "\n",
    "Las funciones que pueden ser útiles son:\n",
    "\n",
    "    - np.linspace(x,y,z), que genera un espacio lineal desde 'x' hasta 'y' con 'z' elementos.\n",
    "    - np.sqrt(x), que calcula la raíz cuadrada de 'x'\n",
    "    - np.exp(x), obtiene la potencia 'x' de e\n",
    "    - np.cos(x), nos da el valor del coseno de 'x' (toma el valor de 'x' en radianes)\n",
    "    - np.pi, nos da el valor de $\\pi$\n",
    "    - plt.xlabel('i'), pone la etiqueta 'i' en el eje X\n",
    "    - plt.ylabel('i'), pone la etiqueta 'i' en el eje Y\n",
    "    - plt.axis([w,x,y,z]), establece el eje X de 'w' a 'x' y el eje Y de 'y' a 'z' \n",
    "    - plt.plot(x,y), genera una gráfica en función de 'x' e 'y'\n",
    "    - if 'x':\n",
    "        'y'    , donde si se cumple la condición 'x' se ejecuta el código 'y'\n",
    "    - == , que sirve como condicional lógico de igualdad\n",
    "\n",
    "te recomendamos que el espacio lineal para el tiempo 't' sea de 0 a 10 y con 200 elementos.\n",
    "\n",
    "Para acortar el código programaremos el valor 'alpha' que sera $\\alpha$ del movimiento sobreamortiguado, también programaremos dos variables 'alph' y 'bet' que estarán asociadas a $\\gamma^2/4$ y $\\omega_0^2$ respectivamente, con estos valores evaluaremos las condiciones. Los ejes de las gráficas los dejamos fijos por conveniencia.\n",
    "\n",
    "Dejamos programado el primer 'if' programado en el caso del movimiento subamortiguado para que te figures como debe de ser la programación."
   ]
  },
  {
   "cell_type": "code",
   "execution_count": null,
   "metadata": {
    "id": "gNedhQHHKu3e"
   },
   "outputs": [],
   "source": [
    "def MAA(g,w0,A,B,phi):\n",
    "    t=np.linspace(0,10,200)\n",
    "    alpha=np.sqrt(g**2/4-w0**2)\n",
    "    alph=g**2/4\n",
    "    bet=w0**2\n",
    "    if alph<bet:\n",
    "        x=A*np.exp(-g*t/2)*np.cos((w0*t+phi))\n",
    "        plt.axis([0,15,-9,9])\n",
    "        plt.title(\"Subamortiguado\")\n",
    "    if alph==bet:\n",
    "        x=A*np.exp((-g*t)/2)+B*t*np.exp((-g*t)/2)\n",
    "        plt.axis([0,15,0,15])\n",
    "        plt.title(\"Críticamente amortiguado\")\n",
    "    if alph>bet:\n",
    "        x=np.exp(-g*t/2)*((A*np.exp(alpha*t)+B*np.exp(-alpha*t)))\n",
    "        plt.axis([0,15,0,10])\n",
    "        plt.title(\"Sobreamortiguado\")\n",
    "    plt.xlabel('Tiempo')\n",
    "    plt.ylabel('Amplitud')\n",
    "    return(plt.plot(t,x),label=movimiento)"
   ]
  },
  {
   "cell_type": "markdown",
   "metadata": {
    "id": "5sQoFNBzKu3e"
   },
   "source": [
    "Generamos una gráfica interactiva con la función 'MAA'\n",
    "\n",
    "    - interact(w,x=(a,b),...,z=(s,d)), genera una gráfica interactiva de la función 'w' donde los parámetros de la función de 'x' varían de 'a' a 'b', hasta 'z' varían de 's' a 'd'.\n",
    "    \n",
    "En este caso te recomendamos que 'g' y 'w0' vayan de 0 a 20, que 'A' y 'B' vayan de 0 a 5 y 'phi' vaya de 0 a 10."
   ]
  },
  {
   "cell_type": "code",
   "execution_count": null,
   "metadata": {
    "id": "w-x9Z32PKu3f"
   },
   "outputs": [],
   "source": [
    "interact(MAA,g=(),w0=(),A=(),B=(),phi=())"
   ]
  },
  {
   "cell_type": "markdown",
   "metadata": {
    "id": "iPzHOZ_sKu3g"
   },
   "source": [
    "### 2) Factor de calidad.\n",
    "\n",
    "\n",
    "Para evitar tener que comparar directamente $\\omega_0$ y $\\gamma$ definimos una constante denominada factor de calidad.\n",
    "\n",
    "\\begin{equation}\n",
    "    Q=\\frac{\\omega_0}{\\gamma}=2\\pi\\frac{E_1}{E_1-E_2}\n",
    "\\end{equation}\n",
    "\n",
    "Donde $E_i$ es la energía de dicho estado.\n",
    "\n",
    "Basándonos en la magnitud del factor de calidad podemos ver sis el sistema no esta amortiguada y si lo esta podemos saber que tan amortiguado se encuentra.\n",
    "\n",
    "#### A) Movimiento críticamente amortiguado.\n",
    "\n",
    "\\begin{align*}\n",
    "\\omega_0^2=\\frac{\\gamma}{4} \\Rightarrow Q=\\frac{1}{2}\n",
    "\\end{align*}\n",
    "\n",
    "#### B)Movimiento subamortiguado.\n",
    "\n",
    "\\begin{align*}\n",
    "\\omega_0^2>\\frac{\\gamma}{4} \\Rightarrow Q>\\frac{1}{2}\n",
    "\\end{align*}\n",
    "\n",
    "#### C)Movimiento sobreamortiguado.\n",
    "\n",
    "\\begin{align*}\n",
    "\\omega_0^2<\\frac{\\gamma}{4} \\Rightarrow Q<\\frac{1}{2}\n",
    "\\end{align*}\n",
    "\n",
    "Si $Q>>\\frac{1}{2}$ prácticamente tenemos un movimiento sin amortiguar.\n"
   ]
  },
  {
   "cell_type": "markdown",
   "metadata": {
    "id": "OHA-OnE8Ku3h"
   },
   "source": [
    "### 3) Circuito RLC.\n",
    "\n",
    "Para este caso sabemos que la suma de las diferencias de potencial eléctrico de los elementos del sistema son iguales a cero y podemos definir la ecuación diferencial del sistema.\n",
    "\n",
    "\\begin{align*}\n",
    "    V_L+V_R+C_C=0\\\\\n",
    "    V_L=L\\frac{dI}{dt}=L\\frac{d^2q}{dt^2}\\\\\n",
    "    V_R=RI=R\\frac{d^2q}{dt^2}\\\\\n",
    "    V_C=\\frac{q}{C}\n",
    "\\end{align*}\n",
    "\n",
    "\\begin{equation}\n",
    "    \\frac{d^2q}{dt^2}+\\gamma\\frac{dq}{dt}+\\omega_0^2q=0\n",
    "\\end{equation}\n",
    "\n",
    "Donde:\n",
    "\\begin{align*}\n",
    "    \\gamma=\\frac{R}{L}\\\\\n",
    "    \\omega_0^2=\\frac{1}{LC}\n",
    "\\end{align*}\n",
    "\n",
    "Tal que las ecuaciones quedan de la siguiente manera.\n",
    "\n",
    "#### A) Movimiento críticamente amortiguado.\n",
    "\n",
    "\\begin{align}\n",
    "    q=e^{\\frac{-\\gamma t}{2}}\\left[A+Bt\\right]\n",
    "\\end{align}\n",
    "\n",
    "#### B) Movimiento subamortiguado.\n",
    "\n",
    "\\begin{align}\n",
    "    q=q_0e^{\\frac{-\\gamma t}{2}}\\cos(\\omega t+\\phi)\\\\\n",
    "    \\omega=\\sqrt{\\frac{1}{LC}-\\frac{R^2}{4L^2}}\n",
    "\\end{align}\n",
    "\n",
    "#### C) Movimiento sobreamortiguado.\n",
    "\n",
    "\\begin{align}\n",
    "    q=e^{\\frac{-\\gamma t}{2}}\\left[ Ae^{\\sqrt{\\frac{\\gamma^2}{4}-\\omega_0^2}t}+Be^{-\\sqrt{\\frac{\\gamma^2}{4}-\\omega_0^2}t}\\right]\n",
    "\\end{align}\n"
   ]
  },
  {
   "cell_type": "markdown",
   "metadata": {
    "id": "A-oPWShBKu3h"
   },
   "source": [
    "### 3.1) Código circuito RLC.\n",
    "\n",
    "En este caso obtendremos las gráficas de movimiento amortiguado solo basándonos en los valores de la resistencia $R$, la inductancia $L$ y la capacitancia $C$, usando las ecuaciones\n",
    "\n",
    "#### A) Movimiento críticamente amortiguado.\n",
    "\n",
    "\\begin{align}\n",
    "    q=e^{\\frac{-\\gamma t}{2}}\\left[A+Bt\\right]\n",
    "\\end{align}\n",
    "\n",
    "#### B) Movimiento subamortiguado.\n",
    "\n",
    "\\begin{align}\n",
    "    q=q_0e^{\\frac{-\\gamma t}{2}}\\cos(\\omega t+\\phi)\\\\\n",
    "    \\omega=\\sqrt{\\frac{1}{LC}-\\frac{R^2}{4L^2}}\n",
    "\\end{align}\n",
    "\n",
    "#### C) Movimiento sobreamortiguado.\n",
    "\n",
    "\\begin{align}\n",
    "    q=e^{\\frac{-\\gamma t}{2}}\\left[ Ae^{\\sqrt{\\frac{\\gamma^2}{4}-\\omega_0^2}t}+Be^{-\\sqrt{\\frac{\\gamma^2}{4}-\\omega_0^2}t}\\right]\n",
    "\\end{align}\n",
    " \n",
    "y definiendo \n",
    "\n",
    "\\begin{align*}\n",
    "    \\gamma=\\frac{R}{L}\\\\\n",
    "    \\omega_0^2=\\frac{1}{LC}\n",
    "\\end{align*}\n",
    "\n",
    "te recomendamos que reutilices la función MAA que ya programaste y que solamente la adaptes a este nuevo problema definiendo $\\omega_0^2$ y $\\gamma$."
   ]
  },
  {
   "cell_type": "code",
   "execution_count": null,
   "metadata": {
    "id": "5kspJQkkKu3h"
   },
   "outputs": [],
   "source": [
    "def RLC(R,L,C,A,B,phi):\n",
    "    t=np.linspace(0,10,200)\n",
    "    g=R/L\n",
    "    w02=1/(L*C)\n",
    "    alpha=np.sqrt(g**2/4-w0**2)\n",
    "    alph=g**2/4\n",
    "    bet=w02\n",
    "    if alph<bet:\n",
    "        x=A*np.exp(-g*t/2)*np.cos((w0*t+phi))\n",
    "        plt.axis([0,15,-9,9])\n",
    "        plt.title(\"Subamortiguado\")\n",
    "    if alph==bet:\n",
    "        x=A*np.exp((-g*t)/2)+B*t*np.exp((-g*t)/2)\n",
    "        plt.axis([0,15,0,15])\n",
    "        plt.title(\"Críticamente amortiguado\")\n",
    "    if alph>bet:\n",
    "        x=np.exp(-g*t/2)*((A*np.exp(alpha*t)+B*np.exp(-alpha*t)))\n",
    "        plt.axis([0,15,0,10])\n",
    "        plt.title(\"Sobreamortiguado\")\n",
    "    plt.xlabel('Tiempo')\n",
    "    plt.ylabel('Amplitud')\n",
    "    return(plt.plot(t,x),label=movimiento)"
   ]
  },
  {
   "cell_type": "markdown",
   "metadata": {
    "id": "wku6ZATNKu3i"
   },
   "source": [
    "Generamos una gráfica interactiva con la función 'RLC'"
   ]
  },
  {
   "cell_type": "code",
   "execution_count": null,
   "metadata": {
    "id": "whxRzF2KKu3i"
   },
   "outputs": [],
   "source": [
    "interact(MAA,g=(0,20),w0=(0,20),A=(0,5),B=(0,5),phi=(0,10))"
   ]
  },
  {
   "cell_type": "markdown",
   "metadata": {
    "id": "jdF8SnMHKu3j"
   },
   "source": [
    "### Bibliografía.\n",
    "\n",
    "\n",
    "1.   King, G. C. (2009). Vibrations and Waves (Illustrated ed.). Wiley. [Capítulo 2, páginas 33-48]\n"
   ]
  }
 ],
 "metadata": {
  "colab": {
   "collapsed_sections": [],
   "name": "Movimiento_Armónico_Amortiguado_V0.1.ipynb",
   "provenance": []
  },
  "kernelspec": {
   "display_name": "Python 3",
   "language": "python",
   "name": "python3"
  },
  "language_info": {
   "codemirror_mode": {
    "name": "ipython",
    "version": 3
   },
   "file_extension": ".py",
   "mimetype": "text/x-python",
   "name": "python",
   "nbconvert_exporter": "python",
   "pygments_lexer": "ipython3",
   "version": "3.7.7"
  }
 },
 "nbformat": 4,
 "nbformat_minor": 1
}
